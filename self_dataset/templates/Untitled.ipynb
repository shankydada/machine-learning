{
 "cells": [
  {
   "cell_type": "code",
   "execution_count": 1,
   "id": "238f0495-6720-4c59-91ad-35d43eaaf3e3",
   "metadata": {},
   "outputs": [
    {
     "name": "stdout",
     "output_type": "stream",
     "text": [
      "Writing index.html\n"
     ]
    }
   ],
   "source": [
    "%%writefile index.html\n",
    "<!DOCTYPE html>\n",
    "<html>\n",
    " <head>\n",
    "     <title>APP</title>\n",
    " </head>\n",
    " <body>\n",
    " <div class=\"login\">\n",
    "    <h1> Value Prediction</h1>\n",
    "    <form action=\"{{ url_for('predict')}}method=\"post\">\n",
    "    <input type =\"number\" name=\"Value\" placeholder=\"Value\" required=\"required\" />\n",
    "    <button type = \"submit\" class = \"btn btn-primary btn-block btn-large\"></button>\n",
    "    </form>\n",
    " </div>\n",
    " </body>\n",
    "</html>"
   ]
  },
  {
   "cell_type": "code",
   "execution_count": null,
   "id": "ebd79d3d-aaa1-4a49-98b1-dc389146bf1b",
   "metadata": {},
   "outputs": [],
   "source": []
  }
 ],
 "metadata": {
  "kernelspec": {
   "display_name": "Python 3 (ipykernel)",
   "language": "python",
   "name": "python3"
  },
  "language_info": {
   "codemirror_mode": {
    "name": "ipython",
    "version": 3
   },
   "file_extension": ".py",
   "mimetype": "text/x-python",
   "name": "python",
   "nbconvert_exporter": "python",
   "pygments_lexer": "ipython3",
   "version": "3.13.1"
  }
 },
 "nbformat": 4,
 "nbformat_minor": 5
}
