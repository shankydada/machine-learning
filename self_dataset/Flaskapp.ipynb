{
 "cells": [
  {
   "cell_type": "code",
   "execution_count": 1,
   "id": "58a007fe-9c29-4502-8a54-33a15e68b237",
   "metadata": {},
   "outputs": [
    {
     "name": "stdout",
     "output_type": "stream",
     "text": [
      "Writing flaskapp.py\n"
     ]
    }
   ],
   "source": [
    "%%writefile flaskapp.py\n",
    "import numpy as np\n",
    "from flask import Flask,request,jasonify,render_template\n",
    "import pickle\n",
    "\n",
    "app = Flask(__name__)\n",
    "model = pickle.load(open(\"model.pkl\", \"rb\"))\n",
    "\n",
    "@flask_app.route('/')\n",
    "def Home():\n",
    "    return render_template(\"index.html\")\n",
    "@flask_app.route(\"/predict\",methods=[\"POST\"])\n",
    "def predict():\n",
    "    float_features=[float(x) for c in request.form.values()]\n",
    "    features =[np.array(float_features)]\n",
    "    prediction = model.predict(features)\n",
    "    return render_template(\"index.html\",predicition_text=\"The Predicted value is {} \".format(prediction))\n",
    "\n",
    "if __name__ == \"--main--\":\n",
    "    flask_app.run(debug=True)"
   ]
  },
  {
   "cell_type": "code",
   "execution_count": null,
   "id": "308bfca4-3855-4fdd-9006-30bafb9470fa",
   "metadata": {},
   "outputs": [],
   "source": []
  }
 ],
 "metadata": {
  "kernelspec": {
   "display_name": "Python 3 (ipykernel)",
   "language": "python",
   "name": "python3"
  },
  "language_info": {
   "codemirror_mode": {
    "name": "ipython",
    "version": 3
   },
   "file_extension": ".py",
   "mimetype": "text/x-python",
   "name": "python",
   "nbconvert_exporter": "python",
   "pygments_lexer": "ipython3",
   "version": "3.13.1"
  }
 },
 "nbformat": 4,
 "nbformat_minor": 5
}
